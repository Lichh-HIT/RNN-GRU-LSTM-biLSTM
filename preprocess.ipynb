{
 "cells": [
  {
   "cell_type": "code",
   "execution_count": 4,
   "metadata": {},
   "outputs": [
    {
     "name": "stdout",
     "output_type": "stream",
     "text": [
      "作者长篇大论借用详细报告数据处理工作和计算结果支持其新观点。为什么荷兰曾经县有欧洲最高的生产率？为什么在文化上有着深刻纽带关系的中国和日本却在经济发展上有着极大的差异？为什么英国的北美殖民地造就了经济强大的美国，而西班牙的北美殖民却造就了范后的墨西哥？……很有价值，但不包括【中国近代史专业】。\n"
     ]
    }
   ],
   "source": [
    "import jieba\n",
    "import pandas as pd\n",
    "path = \"online_shopping_10_cats.csv\"\n",
    "pd_all = pd.read_csv(path)\n",
    "test_text = pd_all.review[2]\n",
    "print(test_text)"
   ]
  },
  {
   "cell_type": "code",
   "execution_count": 3,
   "metadata": {},
   "outputs": [
    {
     "name": "stderr",
     "output_type": "stream",
     "text": [
      "Building prefix dict from the default dictionary ...\n",
      "Loading model from cache C:\\Users\\lichh\\AppData\\Local\\Temp\\jieba.cache\n",
      "Loading model cost 0.428 seconds.\n",
      "Prefix dict has been built successfully.\n"
     ]
    },
    {
     "name": "stdout",
     "output_type": "stream",
     "text": [
      "作者\n",
      "长篇大论\n",
      "借用\n",
      "详细\n",
      "报告\n",
      "数据处理\n",
      "工作\n",
      "和\n",
      "计算结果\n",
      "支持\n",
      "其新\n",
      "观点\n",
      "。\n",
      "为什么\n",
      "荷兰\n",
      "曾经\n",
      "县有\n",
      "欧洲\n",
      "最高\n",
      "的\n",
      "生产率\n",
      "？\n",
      "为什么\n",
      "在\n",
      "文化\n",
      "上\n",
      "有着\n",
      "深刻\n",
      "纽带\n",
      "关系\n",
      "的\n",
      "中国\n",
      "和\n",
      "日本\n",
      "却\n",
      "在\n",
      "经济\n",
      "发展\n",
      "上\n",
      "有着\n",
      "极大\n",
      "的\n",
      "差异\n",
      "？\n",
      "为什么\n",
      "英国\n",
      "的\n",
      "北美\n",
      "殖民地\n",
      "造就\n",
      "了\n",
      "经济\n",
      "强大\n",
      "的\n",
      "美国\n",
      "，\n",
      "而\n",
      "西班牙\n",
      "的\n",
      "北美\n",
      "殖民\n",
      "却\n",
      "造就\n",
      "了\n",
      "范后\n",
      "的\n",
      "墨西哥\n",
      "？\n",
      "…\n",
      "…\n",
      "很\n",
      "有\n",
      "价值\n",
      "，\n",
      "但\n",
      "不\n",
      "包括\n",
      "【\n",
      "中国\n",
      "近代史\n",
      "专业\n",
      "】\n",
      "。\n"
     ]
    }
   ],
   "source": [
    "text_cut = jieba.cut(test_text)\n",
    "for _ , i in enumerate(text_cut):\n",
    "    print(i)"
   ]
  },
  {
   "cell_type": "code",
   "execution_count": null,
   "metadata": {},
   "outputs": [],
   "source": []
  }
 ],
 "metadata": {
  "kernelspec": {
   "display_name": "base",
   "language": "python",
   "name": "python3"
  },
  "language_info": {
   "codemirror_mode": {
    "name": "ipython",
    "version": 3
   },
   "file_extension": ".py",
   "mimetype": "text/x-python",
   "name": "python",
   "nbconvert_exporter": "python",
   "pygments_lexer": "ipython3",
   "version": "3.10.13"
  }
 },
 "nbformat": 4,
 "nbformat_minor": 2
}
